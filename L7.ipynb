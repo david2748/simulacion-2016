{
 "cells": [
  {
   "cell_type": "markdown",
   "metadata": {
    "collapsed": true
   },
   "source": [
    "# Nuestro Primer Proceso\n",
    "Nuestro primer ejemplo será un coche proceso. El coche va a conducir de forma alternativa y estacionar por un tiempo. Cuando se inicia la conducción (o de estacionamiento), se imprimirá el tiempo de simulación actual."
   ]
  },
  {
   "cell_type": "code",
   "execution_count": 1,
   "metadata": {
    "collapsed": true
   },
   "outputs": [],
   "source": [
    "import simpy #importamos nuestra libreria"
   ]
  },
  {
   "cell_type": "code",
   "execution_count": 2,
   "metadata": {
    "collapsed": false
   },
   "outputs": [
    {
     "name": "stdout",
     "output_type": "stream",
     "text": [
      "Start parking at 0\n",
      "Start driving at 5\n",
      "Start parking at 7\n",
      "Start driving at 12\n",
      "Start parking at 14\n",
      "Start driving at 19\n",
      "Start parking at 21\n",
      "Start driving at 26\n",
      "Start parking at 28\n"
     ]
    }
   ],
   "source": [
    "def car(env):\n",
    "    while True:\n",
    "        print('Start parking at %d' % env.now)\n",
    "        parking_duration = 5\n",
    "        yield env.timeout(parking_duration)\n",
    "        print('Start driving at %d' % env.now)\n",
    "        trip_duration = 2\n",
    "        yield env.timeout(trip_duration)\n",
    "env = simpy.Environment()\n",
    "env.process(car(env))\n",
    "env.run(until=30)"
   ]
  },
  {
   "cell_type": "markdown",
   "metadata": {},
   "source": [
    "# Interacción de procesos\n",
    "La Processinstancia que se devuelve Environment.process() puede ser utilizado para las interacciones de procesos. Los dos ejemplos más comunes de esto son que esperar a otro proceso para terminar y para interrumpir otro proceso mientras se está a la espera de un evento.\n",
    "\n",
    "# A la espera de un Proceso"
   ]
  },
  {
   "cell_type": "code",
   "execution_count": 3,
   "metadata": {
    "collapsed": false
   },
   "outputs": [
    {
     "name": "stdout",
     "output_type": "stream",
     "text": [
      "Comience estacionamiento y carga en 0\n",
      "comenzar a conducir en 5\n",
      "Comience estacionamiento y carga en 7\n",
      "comenzar a conducir en 12\n",
      "Comience estacionamiento y carga en 14\n",
      "comenzar a conducir en 19\n",
      "Comience estacionamiento y carga en 21\n",
      "comenzar a conducir en 26\n",
      "Comience estacionamiento y carga en 28\n"
     ]
    }
   ],
   "source": [
    "class Car(object):\n",
    "     def __init__(self, env):\n",
    "         self.env = env\n",
    "         # Iniciar el proceso de ejecución cada vez que se crea una instancia.\n",
    "         self.action = env.process(self.run())\n",
    "\n",
    "     def run(self):\n",
    "         while True:\n",
    "             print('Comience estacionamiento y carga en %d' % self.env.now)\n",
    "             charge_duration = 5\n",
    "             try:\n",
    "                 yield self.env.process(self.charge(charge_duration))\n",
    "             except simpy.Interrupt:\n",
    "                 # When we received an interrupt, we stop charging and\n",
    "                 # switch to the \"driving\" state\n",
    "                 print('Fue interrumpido. La esperanza, la batería es lo suficientemente completa')\n",
    "\n",
    "\n",
    "             # The charge process has finished and\n",
    "             # we can start driving again.\n",
    "             print('comenzar a conducir en %d' % self.env.now)\n",
    "             trip_duration = 2\n",
    "             yield self.env.timeout(trip_duration)\n",
    "\n",
    "     def charge(self, duration):\n",
    "         yield self.env.timeout(duration)\n",
    "env = simpy.Environment()\n",
    "car = Car(env)\n",
    "env.run(until=30)"
   ]
  },
  {
   "cell_type": "markdown",
   "metadata": {},
   "source": [
    "# La interrupción de otro proceso"
   ]
  },
  {
   "cell_type": "markdown",
   "metadata": {},
   "source": [
    "Simpy le permite interrumpir un proceso que se ejecuta llamando a su interrupt() , El driver proceso tiene una referencia a del coche action proceso. Después de esperar 3 pasos de tiempo, se interrumpe el proceso."
   ]
  },
  {
   "cell_type": "code",
   "execution_count": 4,
   "metadata": {
    "collapsed": false
   },
   "outputs": [
    {
     "name": "stdout",
     "output_type": "stream",
     "text": [
      "Comience estacionamiento y carga en 0\n",
      "Fue interrumpido. La esperanza, la batería es lo suficientemente completa\n",
      "comenzar a conducir en 3\n",
      "Comience estacionamiento y carga en 5\n",
      "comenzar a conducir en 10\n",
      "Comience estacionamiento y carga en 12\n",
      "comenzar a conducir en 17\n",
      "Comience estacionamiento y carga en 19\n",
      "comenzar a conducir en 24\n",
      "Comience estacionamiento y carga en 26\n"
     ]
    }
   ],
   "source": [
    "def driver(env, car):\n",
    "    yield env.timeout(3)\n",
    "    car.action.interrupt()\n",
    "\n",
    "env = simpy.Environment()\n",
    "car = Car(env)\n",
    "env.process(driver(env, car))\n",
    "env.run(until=30)"
   ]
  },
  {
   "cell_type": "markdown",
   "metadata": {},
   "source": [
    "# Recursos compartidos\n",
    "\n",
    "\n",
    "# Uso de Recursos básicos"
   ]
  },
  {
   "cell_type": "code",
   "execution_count": 5,
   "metadata": {
    "collapsed": false
   },
   "outputs": [
    {
     "name": "stdout",
     "output_type": "stream",
     "text": [
      "Car 0 llega a las 0\n",
      "Car 0 comenzando a cobrar a las 0\n",
      "Car 1 llega a las 2\n",
      "Car 1 comenzando a cobrar a las 2\n",
      "Car 2 llega a las 4\n",
      "Car 0 dejando la BCS a las 5\n",
      "Car 2 comenzando a cobrar a las 5\n",
      "Car 3 llega a las 6\n",
      "Car 1 dejando la BCS a las 7\n",
      "Car 3 comenzando a cobrar a las 7\n",
      "Car 2 dejando la BCS a las 10\n",
      "Car 3 dejando la BCS a las 12\n"
     ]
    }
   ],
   "source": [
    "def car(env, name, bcs, driving_time, charge_duration):\n",
    "     # Simulate driving to the BCS\n",
    "     yield env.timeout(driving_time)\n",
    "\n",
    "     # Request one of its charging spots\n",
    "     print('%s llega a las %d' % (name, env.now))\n",
    "     with bcs.request() as req:\n",
    "         yield req\n",
    "\n",
    "         # Charge the battery\n",
    "         print('%s comenzando a cobrar a las %s' % (name, env.now))\n",
    "         yield env.timeout(charge_duration)\n",
    "         print('%s dejando la BCS a las %s' % (name, env.now))\n",
    "        \n",
    "env = simpy.Environment()\n",
    "bcs = simpy.Resource(env, capacity=2)\n",
    "\n",
    "for i in range(4):\n",
    "    env.process(car(env, 'Car %d' % i, bcs, i*2, 5))\n",
    "    \n",
    "env.run()"
   ]
  },
  {
   "cell_type": "code",
   "execution_count": null,
   "metadata": {
    "collapsed": true
   },
   "outputs": [],
   "source": []
  }
 ],
 "metadata": {
  "anaconda-cloud": {},
  "kernelspec": {
   "display_name": "Python [Root]",
   "language": "python",
   "name": "Python [Root]"
  },
  "language_info": {
   "codemirror_mode": {
    "name": "ipython",
    "version": 3
   },
   "file_extension": ".py",
   "mimetype": "text/x-python",
   "name": "python",
   "nbconvert_exporter": "python",
   "pygments_lexer": "ipython3",
   "version": "3.5.2"
  }
 },
 "nbformat": 4,
 "nbformat_minor": 0
}
