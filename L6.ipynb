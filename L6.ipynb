{
 "cells": [
  {
   "cell_type": "code",
   "execution_count": 3,
   "metadata": {
    "collapsed": false
   },
   "outputs": [
    {
     "data": {
      "image/png": "[encoded data removed]",
      "text/plain": [
       "<matplotlib.figure.Figure at 0x186df68da58>"
      ]
     },
     "metadata": {},
     "output_type": "display_data"
    }
   ],
   "source": [
    "%matplotlib inline\n",
    "import matplotlib.pyplot as plt\n",
    "import numpy as np\n",
    "import math\n",
    "a=23434\n",
    "b=34562\n",
    "m=345324\n",
    "def Aleatorio():\n",
    "    \n",
    "    u=[] #Vector con numero aleatorio\n",
    "    x=24242 #Semilla X\n",
    "    for i in range(1000):\n",
    "        x=(a*x+b)%m\n",
    "        u.append(float(x)/m)\n",
    "    return u\n",
    "\n",
    "def exponencial(landa):\n",
    "    u=Aleatorio()\n",
    "    F=[]\n",
    "    for i in range(1000):\n",
    "        F.append(-math.log(1-u[i])/landa)\n",
    "    plt.hist(F, 25, normed=True)\n",
    "    exponencialTeorico(max(F),landa,1000)\n",
    "    plt.show()\n",
    "    \n",
    "def exponencialTeorico(r,landa,escala):\n",
    "    x=np.linspace(0,r,escala)\n",
    "    f=[]\n",
    "    for i in range(len(x)):\n",
    "        f.append(landa*math.exp(-landa*x[i]))\n",
    "    plt.hist(f, 25, normed=True)\n",
    "exponencial(5)"
   ]
  },
  {
   "cell_type": "code",
   "execution_count": null,
   "metadata": {
    "collapsed": true
   },
   "outputs": [],
   "source": []
  }
 ],
 "metadata": {
  "anaconda-cloud": {},
  "kernelspec": {
   "display_name": "Python [Root]",
   "language": "python",
   "name": "Python [Root]"
  },
  "language_info": {
   "codemirror_mode": {
    "name": "ipython",
    "version": 3
   },
   "file_extension": ".py",
   "mimetype": "text/x-python",
   "name": "python",
   "nbconvert_exporter": "python",
   "pygments_lexer": "ipython3",
   "version": "3.5.2"
  }
 },
 "nbformat": 4,
 "nbformat_minor": 0
}
