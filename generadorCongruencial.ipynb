{
 "cells": [
  {
   "cell_type": "code",
   "execution_count": null,
   "metadata": {
    "collapsed": true
   },
   "outputs": [],
   "source": [
    "import sys\n",
    " \n",
    "a = int (raw_input(\"Costante multiplicativa \"))\n",
    "b = int (raw_input(\"Constante aditiva \"))\n",
    "xo= int (raw_input(\"Semilla inicial \"))\n",
    "m = int (raw_input(\"Ingrese el  modulo \"))\n",
    "xoinicial = xo\n",
    " \n",
    "print 'n   Xo   (aXo + b) modm   Xn + 1   Numero Rectangular '\n",
    " \n",
    "for i in range (m):\n",
    "    i += 1\n",
    "    div = ((a * xo) + b)/m\n",
    "    mod = ((a*xo)+b)%m\n",
    "    nr = float((mod+.0) / (m+.0))\n",
    "    print \"%d   %d     %d  +   %d/%d      %d        %f  \"%(i, xo, div, mod, m, mod, nr)\n",
    "    xo = mod"
   ]
  }
 ],
 "metadata": {
  "anaconda-cloud": {},
  "kernelspec": {
   "display_name": "Python [Root]",
   "language": "python",
   "name": "Python [Root]"
  },
  "language_info": {
   "codemirror_mode": {
    "name": "ipython",
    "version": 2
   },
   "file_extension": ".py",
   "mimetype": "text/x-python",
   "name": "python",
   "nbconvert_exporter": "python",
   "pygments_lexer": "ipython2",
   "version": "2.7.12"
  }
 },
 "nbformat": 4,
 "nbformat_minor": 0
}
