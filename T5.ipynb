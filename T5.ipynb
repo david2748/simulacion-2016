{
 "cells": [
  {
   "cell_type": "code",
   "execution_count": 2,
   "metadata": {
    "collapsed": false
   },
   "outputs": [],
   "source": [
    "import random\n",
    "import simpy\n",
    "import math\n",
    "\n",
    "NEW_CUSTOMERS =5  \n",
    "INTERVAL_CUSTOMERS = 4.0  \n",
    "MIN_PATIENCE = 2 \n",
    "MAX_PATIENCE = 5 \n",
    "TIME_IN_BANK=12.0\n",
    "\n",
    "CLIENTES=0\n",
    "ATENDIDOS=0 \n",
    "ABANDONAN=0 \n",
    "tfila=0 \n",
    "tbanco=0 \n",
    "Tfila=0 \n",
    "fila=[[],[]] \n",
    "banco=[[],[]] \n",
    "\n",
    "SEED_U=24242\n",
    "SEED_E=24242 \n",
    "\n",
    "def source(env, nclientes, interval, counter):\n",
    "\n",
    "    semilla=5 \n",
    "    \n",
    "   \n",
    "    for i in range(nclientes):\n",
    "        c = customer(env, 'Cliente%02d' % i, counter)\n",
    "        env.process(c)\n",
    "        semilla,t=exponencial(semilla,1.0 / interval)\n",
    "        yield env.timeout(t)\n",
    "\n",
    "\n",
    "def customer(env, name, counter):\n",
    "   \n",
    "    global ATENDIDOS,ABANDONAN,CLIENTES,tfila,tbanco,Tfila,SEED_U,SEED_E\n",
    "    \n",
    "    arrive = env.now \n",
    "    \n",
    "    CLIENTES+=1;\n",
    "    banco[0].append(arrive)\n",
    "    banco[1].append(CLIENTES-ATENDIDOS-ABANDONAN)\n",
    "    if CLIENTES-ATENDIDOS-ABANDONAN > 1:\n",
    "        fila[0].append(arrive)\n",
    "        fila[1].append(CLIENTES-ATENDIDOS-ABANDONAN-1)\n",
    "   \n",
    "  \n",
    "    \n",
    "    with counter.request() as req:\n",
    "        SEED_U,patience = uniforme(SEED_U,MIN_PATIENCE, MAX_PATIENCE)\n",
    "      \n",
    "        \n",
    "        results = yield req | env.timeout(patience)\n",
    "        \n",
    "        Tfila +=CLIENTES-ATENDIDOS-ABANDONAN-1\n",
    "        if CLIENTES-ATENDIDOS-ABANDONAN > 1:\n",
    "            fila[0].append(env.now)\n",
    "            fila[1].append(CLIENTES-ATENDIDOS-ABANDONAN-2)\n",
    "        \n",
    "        wait = env.now - arrive\n",
    "        \n",
    "        tfila+=wait\n",
    "        \n",
    "        if req in results:\n",
    "            \n",
    "            SEED_E,tib = exponencial(SEED_E,1.0 / TIME_IN_BANK)\n",
    "            \n",
    "            yield env.timeout(tib)\n",
    "       \n",
    "            ATENDIDOS+=1;\n",
    "        else:\n",
    "            \n",
    "            ABANDONAN+=1\n",
    "        tbanco=env.now-arrive\n",
    "        banco[0].append(env.now)\n",
    "        banco[1].append(CLIENTES- ATENDIDOS-ABANDONAN)\n",
    "        \n",
    "def Aleatorio(x):\n",
    "    a=1664525\n",
    "    b=1013904223\n",
    "    m=2**32\n",
    "    x=(a*x+b)%m\n",
    "    u=float(x)/m\n",
    "    return u,x\n",
    "\n",
    "def exponencial(x,landa):\n",
    "    u,x = Aleatorio(x)\n",
    "    return x,-math.log(1-u)/landa\n",
    "\n",
    "def uniforme(x,a,b):\n",
    "    u,x = Aleatorio(x)\n",
    "    return x,a+u*(b-a)\n",
    "\n",
    "\n",
    "env = simpy.Environment()\n",
    "\n",
    "counter = simpy.Resource(env, capacity=1)\n",
    "env.process(source(env, NEW_CUSTOMERS, INTERVAL_CUSTOMERS, counter))\n",
    "env.run()"
   ]
  },
  {
   "cell_type": "code",
   "execution_count": 3,
   "metadata": {
    "collapsed": false
   },
   "outputs": [
    {
     "name": "stdout",
     "output_type": "stream",
     "text": [
      "Número de clientes que llegaron: 5\n",
      "Número de clientes que fueron atendidos en el banco: 2\n",
      "Número de clientes que abandonaron el banco: 3\n",
      "Tiempo promedio de espera del cliente en la fila: 1.59319386142\n",
      "Tiempo promedio del cliente en el banco: 0.304733694568\n",
      "Tamaño promedio de la fila: 0\n"
     ]
    },
    {
     "data": {
      "image/png": "[encoded data removed]",
      "text/plain": [
       "<matplotlib.figure.Figure at 0x7549860>"
      ]
     },
     "metadata": {},
     "output_type": "display_data"
    },
    {
     "data": {
      "image/png": "[encoded data removed]",
      "text/plain": [
       "<matplotlib.figure.Figure at 0x779fc50>"
      ]
     },
     "metadata": {},
     "output_type": "display_data"
    }
   ],
   "source": [
    "def estadisticas():\n",
    "    print('Número de clientes que llegaron: '+str(CLIENTES))\n",
    "    print('Número de clientes que fueron atendidos en el banco: '+str(ATENDIDOS))\n",
    "    print('Número de clientes que abandonaron el banco: '+str(ABANDONAN))\n",
    "    print('Tiempo promedio de espera del cliente en la fila: '+str(tfila/CLIENTES))\n",
    "    print('Tiempo promedio del cliente en el banco: '+str(tbanco/CLIENTES))\n",
    "    print('Tamaño promedio de la fila: '+str(Tfila/CLIENTES))\n",
    "\n",
    "%matplotlib inline\n",
    "import matplotlib.pyplot as plt\n",
    "import numpy as np\n",
    "def grafica():\n",
    "    #banco\n",
    "    xb=np.repeat(banco[0],2).tolist()\n",
    "    xb.append(0)\n",
    "    tb=np.repeat(banco[1],2).tolist()\n",
    "    tb.insert(0,0)\n",
    "    \n",
    "    plt.title('Numero de personas en el banco')\n",
    "    plt.plot(xb,tb)\n",
    "    plt.ylabel('personas')\n",
    "    plt.xlabel('tiempo')\n",
    "    plt.show()\n",
    "    \n",
    "    #fila\n",
    "    xf=np.repeat(fila[0],2).tolist()\n",
    "    xf.append(0)\n",
    "    tf=np.repeat(fila[1],2).tolist()\n",
    "    tf.insert(0,0)\n",
    "    \n",
    "    plt.plot(xf,tf)\n",
    "    plt.title('Numero de personas en la fila')\n",
    "    plt.xlim(0,max(banco[0]))\n",
    "    plt.ylabel('personas')\n",
    "    plt.xlabel('tiempo')\n",
    "    plt.show()\n",
    "estadisticas()\n",
    "grafica()"
   ]
  },
  {
   "cell_type": "markdown",
   "metadata": {},
   "source": [
    "### Realice las simulaciones calculando y graficando lo que implementó, para los siguiente escenarios:\n",
    "\n",
    "### Escenaria 1\n"
   ]
  },
  {
   "cell_type": "code",
   "execution_count": 4,
   "metadata": {
    "collapsed": false
   },
   "outputs": [
    {
     "name": "stdout",
     "output_type": "stream",
     "text": [
      "Escenario A\n"
     ]
    },
    {
     "data": {
      "image/png": "[encoded data removed]",
      "text/plain": [
       "<matplotlib.figure.Figure at 0x7562b00>"
      ]
     },
     "metadata": {},
     "output_type": "display_data"
    },
    {
     "data": {
      "image/png": "[encoded data removed]",
      "text/plain": [
       "<matplotlib.figure.Figure at 0x825b1d0>"
      ]
     },
     "metadata": {},
     "output_type": "display_data"
    },
    {
     "name": "stdout",
     "output_type": "stream",
     "text": [
      "Número de clientes que llegaron: 5\n",
      "Número de clientes que fueron atendidos en el banco: 2\n",
      "Número de clientes que abandonaron el banco: 3\n",
      "Tiempo promedio de espera del cliente en la fila: 1.46212924095\n",
      "Tiempo promedio del cliente en el banco: 0.330128169115\n",
      "Tamaño promedio de la fila: 0\n"
     ]
    }
   ],
   "source": [
    "'''Primero'''\n",
    "INTERVAL_CUSTOMERS = 5.0  \n",
    "MIN_PATIENCE = 2  \n",
    "MAX_PATIENCE = 4 \n",
    "TIME_IN_BANK=13.0\n",
    "\n",
    "print('Escenario A')\n",
    "CLIENTES=0 \n",
    "ATENDIDOS=0 \n",
    "ABANDONAN=0 \n",
    "tfila=0 \n",
    "tbanco=0 \n",
    "Tfila=0 \n",
    "fila=[[],[]] \n",
    "banco=[[],[]] \n",
    "\n",
    "SEED_U=24242 \n",
    "SEED_E=24242 \n",
    "\n",
    "env = simpy.Environment()\n",
    "\n",
    "counter = simpy.Resource(env, capacity=1)\n",
    "env.process(source(env, NEW_CUSTOMERS, INTERVAL_CUSTOMERS, counter))\n",
    "env.run()\n",
    "\n",
    "grafica()\n",
    "estadisticas()"
   ]
  },
  {
   "cell_type": "markdown",
   "metadata": {},
   "source": [
    "### Escenario No2"
   ]
  },
  {
   "cell_type": "code",
   "execution_count": 5,
   "metadata": {
    "collapsed": false
   },
   "outputs": [
    {
     "name": "stdout",
     "output_type": "stream",
     "text": [
      "Escenario B\n"
     ]
    },
    {
     "data": {
      "image/png": "[encoded data removed]",
      "text/plain": [
       "<matplotlib.figure.Figure at 0x7549780>"
      ]
     },
     "metadata": {},
     "output_type": "display_data"
    },
    {
     "data": {
      "image/png": "[encoded data removed]",
      "text/plain": [
       "<matplotlib.figure.Figure at 0x8660a20>"
      ]
     },
     "metadata": {},
     "output_type": "display_data"
    },
    {
     "name": "stdout",
     "output_type": "stream",
     "text": [
      "Número de clientes que llegaron: 5\n",
      "Número de clientes que fueron atendidos en el banco: 4\n",
      "Número de clientes que abandonaron el banco: 1\n",
      "Tiempo promedio de espera del cliente en la fila: 0.247696797922\n",
      "Tiempo promedio del cliente en el banco: 0.033812312634\n",
      "Tamaño promedio de la fila: 0\n"
     ]
    }
   ],
   "source": [
    "\n",
    "INTERVAL_CUSTOMERS = 12.0  \n",
    "MIN_PATIENCE = 1 \n",
    "MAX_PATIENCE = 3 \n",
    "TIME_IN_BANK=9.0\n",
    "\n",
    "print('Escenario 2')\n",
    "CLIENTES=0 \n",
    "ATENDIDOS=0 \n",
    "ABANDONAN=0 \n",
    "tfila=0\n",
    "tbanco=0 \n",
    "Tfila=0\n",
    "fila=[[],[]] \n",
    "banco=[[],[]] \n",
    "\n",
    "SEED_U=24242 \n",
    "SEED_E=24242 \n",
    "\n",
    "env = simpy.Environment()\n",
    "\n",
    "counter = simpy.Resource(env, capacity=1\n",
    "env.process(source(env, NEW_CUSTOMERS, INTERVAL_CUSTOMERS, counter))\n",
    "env.run()\n",
    "\n",
    "grafica()\n",
    "estadisticas()"
   ]
  },
  {
   "cell_type": "markdown",
   "metadata": {},
   "source": [
    "## Analisis:\n",
    "analizando los 2 casos podemos analisar  que  en el segundo caso posee una mayor atencion a los clientes,esto lo pedemos ver en las colas que a pesar que el tiempo promedio de los clientes en el banco es muy cercano,el segundo escenario ofrece una mejor atencion."
   ]
  },
  {
   "cell_type": "markdown",
   "metadata": {},
   "source": []
  }
 ],
 "metadata": {
  "anaconda-cloud": {},
  "kernelspec": {
   "display_name": "Python [Root]",
   "language": "python",
   "name": "Python [Root]"
  },
  "language_info": {
   "codemirror_mode": {
    "name": "ipython",
    "version": 2
   },
   "file_extension": ".py",
   "mimetype": "text/x-python",
   "name": "python",
   "nbconvert_exporter": "python",
   "pygments_lexer": "ipython2",
   "version": "2.7.12"
  }
 },
 "nbformat": 4,
 "nbformat_minor": 0
}
