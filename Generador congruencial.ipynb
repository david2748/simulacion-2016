{
 "cells": [
  {
   "cell_type": "markdown",
   "metadata": {},
   "source": [
    "# GENERADOR CONGRUENCIAL "
   ]
  },
  {
   "cell_type": "markdown",
   "metadata": {},
   "source": [
    "# EJEMPLO "
   ]
  },
  {
   "cell_type": "code",
   "execution_count": 2,
   "metadata": {
    "collapsed": false
   },
   "outputs": [
    {
     "name": "stdout",
     "output_type": "stream",
     "text": [
      "Costante multiplicativa 3\n",
      "Constante aditiva 7\n",
      "Semilla inicial 9\n",
      "Dame un modulo 13\n",
      "n   Xo   (aXo + b) modm   Xn + 1   Numero Rectangular \n",
      "1   9     2  +   8/13      8        0.615385  \n",
      "2   8     2  +   5/13      5        0.384615  \n",
      "3   5     1  +   9/13      9        0.692308  \n",
      "4   9     2  +   8/13      8        0.615385  \n",
      "5   8     2  +   5/13      5        0.384615  \n",
      "6   5     1  +   9/13      9        0.692308  \n",
      "7   9     2  +   8/13      8        0.615385  \n",
      "8   8     2  +   5/13      5        0.384615  \n",
      "9   5     1  +   9/13      9        0.692308  \n",
      "10   9     2  +   8/13      8        0.615385  \n",
      "11   8     2  +   5/13      5        0.384615  \n",
      "12   5     1  +   9/13      9        0.692308  \n",
      "13   9     2  +   8/13      8        0.615385  \n"
     ]
    }
   ],
   "source": [
    "import sys\n",
    " \n",
    "a = int (raw_input(\"Costante multiplicativa \"))\n",
    "b = int (raw_input(\"Constante aditiva \"))\n",
    "xo= int (raw_input(\"Semilla inicial \"))\n",
    "m = int (raw_input(\"Ingrese el  modulo \"))\n",
    "xoinicial = xo\n",
    " \n",
    "print 'n   Xo   (aXo + b) modm   Xn + 1   Numero Rectangular '\n",
    " \n",
    "for i in range (m):\n",
    "    i += 1\n",
    "    div = ((a * xo) + b)/m\n",
    "    mod = ((a*xo)+b)%m\n",
    "    nr = float((mod+.0) / (m+.0))\n",
    "    print \"%d   %d     %d  +   %d/%d      %d        %f  \"%(i, xo, div, mod, m, mod, nr)\n",
    "    xo = mod\n",
    " \n"
   ]
  },
  {
   "cell_type": "markdown",
   "metadata": {
    "collapsed": true
   },
   "source": [
    "# Edwin Ramirez "
   ]
  },
  {
   "cell_type": "code",
   "execution_count": null,
   "metadata": {
    "collapsed": true
   },
   "outputs": [],
   "source": []
  }
 ],
 "metadata": {
  "kernelspec": {
   "display_name": "Python 2",
   "language": "python",
   "name": "python2"
  },
  "language_info": {
   "codemirror_mode": {
    "name": "ipython",
    "version": 2
   },
   "file_extension": ".py",
   "mimetype": "text/x-python",
   "name": "python",
   "nbconvert_exporter": "python",
   "pygments_lexer": "ipython2",
   "version": "2.7.11"
  },
  "widgets": {
   "state": {},
   "version": "1.1.2"
  }
 },
 "nbformat": 4,
 "nbformat_minor": 0
}
