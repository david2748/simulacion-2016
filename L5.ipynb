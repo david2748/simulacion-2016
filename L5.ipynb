{
 "cells": [
  {
   "cell_type": "code",
   "execution_count": 2,
   "metadata": {
    "collapsed": false
   },
   "outputs": [
    {
     "name": "stdout",
     "output_type": "stream",
     "text": [
      "Poisson\n"
     ]
    },
    {
     "data": {
      "image/png": "[encoded data removed]",
      "text/plain": [
       "<matplotlib.figure.Figure at 0x23698aeae80>"
      ]
     },
     "metadata": {},
     "output_type": "display_data"
    },
    {
     "name": "stdout",
     "output_type": "stream",
     "text": [
      "Uniforme\n"
     ]
    },
    {
     "data": {
      "image/png": "[encoded data removed]",
      "text/plain": [
       "<matplotlib.figure.Figure at 0x23698b01c88>"
      ]
     },
     "metadata": {},
     "output_type": "display_data"
    },
    {
     "name": "stdout",
     "output_type": "stream",
     "text": [
      "Bernoulli\n"
     ]
    },
    {
     "data": {
      "image/png": "[encoded data removed]",
      "text/plain": [
       "<matplotlib.figure.Figure at 0x2369902ac18>"
      ]
     },
     "metadata": {},
     "output_type": "display_data"
    }
   ],
   "source": [
    "%matplotlib inline\n",
    "import matplotlib.pyplot as plt\n",
    "import numpy as np\n",
    "import math\n",
    "\n",
    "def Aleatorio():\n",
    "    a=2343\n",
    "    b=3456\n",
    "    m=34532\n",
    "    u=[]\n",
    "    x=24242\n",
    "    for i in range(1000):\n",
    "        x=(a*x+b)%m\n",
    "        u.append(float(x)/m)\n",
    "    return u\n",
    "\n",
    "def poisson():\n",
    "    fx=[]\n",
    "    fdpx=[]\n",
    "    k=45\n",
    "    l=4\n",
    "    for i in range(k):\n",
    "        fx.append(i)\n",
    "        fdpx.append(((math.exp(-l))*(l**i))/math.factorial(i))\n",
    "    fdpax=[fdpx[0]]\n",
    "    \n",
    "    for i in range(1,len(fx)-1):\n",
    "        fdpax.append(fdpax[i-1]+fdpx[i]);\n",
    "    fu=Aleatorio()\n",
    "    fux=[]#X\n",
    "    for i in range(1000):      \n",
    "        for j in range(len(fx)-1):\n",
    "            if fu[i]<=fdpax[j]:\n",
    "                fux.append(fx[j])\n",
    "                break\n",
    "    count, bins, ignored = plt.hist(fux, 25, normed=True)\n",
    "    plt.show()\n",
    "    \n",
    "def uniforme():\n",
    "    b=8\n",
    "    a=3\n",
    "    fdpx=[1/(b-a)]*((b-a))\n",
    "    fx=np.linspace(a,b,(b-a))\n",
    "    \n",
    "    fdpax=[fdpx[0]]\n",
    "    \n",
    "    for i in range(1,len(fx)-1):\n",
    "        fdpax.append(fdpax[i-1]+fdpx[i]);\n",
    "    fu=Aleatorio()\n",
    "    fux=[]#X\n",
    "    for i in range(1000):      \n",
    "        for j in range(len(fx)-1):\n",
    "            if fu[i]<=fdpax[j]:\n",
    "                fux.append(fx[j])\n",
    "                break\n",
    "    count, bins, ignored = plt.hist(fux, 25, normed=True)\n",
    "    plt.show()\n",
    "    \n",
    "def bernoulli():\n",
    "    p1=0.6\n",
    "    p2=1-p1\n",
    "    fx=[1,0]\n",
    "    fdpx=[p1,p2]\n",
    "    \n",
    "    fdpax=[fdpx[0]]\n",
    "    \n",
    "    for i in range(1,len(fx)-1):\n",
    "        fdpax.append(fdpax[i-1]+fdpx[i]);\n",
    "    fu=Aleatorio()\n",
    "    fux=[]#X\n",
    "    for i in range(1000):      \n",
    "        for j in range(len(fx)-1):\n",
    "            if fu[i]<=fdpax[j]:\n",
    "                fux.append(fx[j])\n",
    "                break\n",
    "    count, bins, ignored = plt.hist(fux, 25, normed=True)\n",
    "    \n",
    "print(\"Poisson\")\n",
    "poisson()\n",
    "print(\"Uniforme\")\n",
    "uniforme()\n",
    "print(\"Bernoulli\")\n",
    "bernoulli()"
   ]
  },
  {
   "cell_type": "code",
   "execution_count": null,
   "metadata": {
    "collapsed": true
   },
   "outputs": [],
   "source": []
  },
  {
   "cell_type": "code",
   "execution_count": null,
   "metadata": {
    "collapsed": true
   },
   "outputs": [],
   "source": []
  }
 ],
 "metadata": {
  "anaconda-cloud": {},
  "kernelspec": {
   "display_name": "Python [Root]",
   "language": "python",
   "name": "Python [Root]"
  },
  "language_info": {
   "codemirror_mode": {
    "name": "ipython",
    "version": 3
   },
   "file_extension": ".py",
   "mimetype": "text/x-python",
   "name": "python",
   "nbconvert_exporter": "python",
   "pygments_lexer": "ipython3",
   "version": "3.5.2"
  }
 },
 "nbformat": 4,
 "nbformat_minor": 0
}
