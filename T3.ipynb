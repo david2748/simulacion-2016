{
 "cells": [
  {
   "cell_type": "code",
   "execution_count": 19,
   "metadata": {
    "collapsed": false
   },
   "outputs": [],
   "source": [
    "%matplotlib inline\n",
    "import matplotlib.pyplot as plt\n",
    "import numpy as np\n",
    "import scipy as sp\n",
    "import math\n",
    "\n",
    "n = 2000\n",
    "a = 16645\n",
    "b = 13467\n",
    "m = 317\n",
    "\n",
    "def aleatorio(n):  \n",
    "    u=[] #Vector con numero aleatorio\n",
    "    x=999 #Semilla X=5\n",
    "    for i in range(n):\n",
    "        x=(a*x+b)%m\n",
    "        u.append(float(x)/m)\n",
    "    return u\n",
    "\n",
    "def chiCuadrado(k):\n",
    "    x=aleatorio(n)\n",
    "    count, bins, ignored = plt.hist(x, k, normed=False)\n",
    "    fi = count\n",
    "    chi2 = 0.0\n",
    "    for i in range(k):\n",
    "        chi2+=((fi[i]-(n/k))**2)/(n/k)\n",
    "    print(\"Chi2 = %g\"%chi2)\n",
    "    \n",
    "def ks():\n",
    "    u = [1.0] * n\n",
    "    x=aleatorio(n)\n",
    "    x1 = np.arange(1/n,1+1/n,1/n)\n",
    "    y1 = np.cumsum(np.sort(u)/np.max(np.cumsum(u)))\n",
    "\n",
    "    x2 = np.sort(x)\n",
    "    y2 = np.cumsum(np.sort(x)/np.max(np.cumsum(x)))\n",
    "\n",
    "    De=np.absolute(y2-y1)\n",
    "    #print(D)\n",
    "    print(\"De = \",np.max(De))\n",
    "    \n",
    "def PCNS(k): #Contraste de los pares consecutivos no solapados\n",
    "    u=aleatorio(n)\n",
    "    c=np.linspace(0,1,k+1)\n",
    "    o=[]\n",
    "    yi=[]\n",
    "    yj=[]\n",
    "    for j in range(1,k+1):\n",
    "        o.append([])\n",
    "        for i in range(n):\n",
    "            if c[j-1]<=u[i]<c[j]:\n",
    "                if len(yi)==len(yj):\n",
    "                    yi.append(u[i])\n",
    "                else:\n",
    "                    yj.append(u[i])\n",
    "                o[j-1].append(u[i])\n",
    "    print(o)\n",
    "    print(yi)\n",
    "    print(yj)\n",
    "#PCNS(3)\n",
    "def TestRachas():\n",
    "    aux=[]\n",
    "    u=aleatorio(n)\n",
    "    for i in range(n-1):\n",
    "        if u[i+1]<u[i]:\n",
    "            aux.append(0)\n",
    "        else:\n",
    "            aux.append(1)\n",
    "    nr=1#numero de rachas\n",
    "    for i in range(len(aux)-1):\n",
    "        if aux[i]!=aux[i+1]:\n",
    "            nr+=1"
   ]
  },
  {
   "cell_type": "code",
   "execution_count": 20,
   "metadata": {
    "collapsed": false,
    "scrolled": true
   },
   "outputs": [
    {
     "name": "stdout",
     "output_type": "stream",
     "text": [
      "Chi2 = 616.5\n",
      "De =  0.22878622683\n"
     ]
    },
    {
     "data": {
      "image/png": "[encoded data removed]",
      "text/plain": [
       "<matplotlib.figure.Figure at 0x1f6ead2eda0>"
      ]
     },
     "metadata": {},
     "output_type": "display_data"
    }
   ],
   "source": [
    "\n",
    "chiCuadrado(100)\n",
    "ks()"
   ]
  },
  {
   "cell_type": "code",
   "execution_count": null,
   "metadata": {
    "collapsed": true
   },
   "outputs": [],
   "source": []
  },
  {
   "cell_type": "code",
   "execution_count": null,
   "metadata": {
    "collapsed": true
   },
   "outputs": [],
   "source": []
  },
  {
   "cell_type": "code",
   "execution_count": null,
   "metadata": {
    "collapsed": true
   },
   "outputs": [],
   "source": []
  }
 ],
 "metadata": {
  "anaconda-cloud": {},
  "kernelspec": {
   "display_name": "Python [Root]",
   "language": "python",
   "name": "Python [Root]"
  },
  "language_info": {
   "codemirror_mode": {
    "name": "ipython",
    "version": 3
   },
   "file_extension": ".py",
   "mimetype": "text/x-python",
   "name": "python",
   "nbconvert_exporter": "python",
   "pygments_lexer": "ipython3",
   "version": "3.5.2"
  }
 },
 "nbformat": 4,
 "nbformat_minor": 0
}
